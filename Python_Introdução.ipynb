{
  "nbformat": 4,
  "nbformat_minor": 0,
  "metadata": {
    "colab": {
      "name": "Python:Introdução.ipynb",
      "provenance": [],
      "collapsed_sections": [],
      "include_colab_link": true
    },
    "kernelspec": {
      "name": "python3",
      "display_name": "Python 3"
    },
    "language_info": {
      "name": "python"
    }
  },
  "cells": [
    {
      "cell_type": "markdown",
      "metadata": {
        "id": "view-in-github",
        "colab_type": "text"
      },
      "source": [
        "<a href=\"https://colab.research.google.com/github/SandraOliver/PrimeiroProjeto/blob/master/Python_Introdu%C3%A7%C3%A3o.ipynb\" target=\"_parent\"><img src=\"https://colab.research.google.com/assets/colab-badge.svg\" alt=\"Open In Colab\"/></a>"
      ]
    },
    {
      "cell_type": "markdown",
      "metadata": {
        "id": "p-q9cZL2tPvE"
      },
      "source": [
        "# Um pouco sobre a história da computação."
      ]
    },
    {
      "cell_type": "markdown",
      "metadata": {
        "id": "UzNxxj6M_bqq"
      },
      "source": [
        "## O que é programação?"
      ]
    },
    {
      "cell_type": "markdown",
      "metadata": {
        "id": "INxvCxfL_3Jn"
      },
      "source": [
        "## O que é um programa de computador?\n",
        "\n"
      ]
    },
    {
      "cell_type": "markdown",
      "metadata": {
        "id": "LLoSPWxQADqa"
      },
      "source": [
        "## O que é um algoritmo?"
      ]
    },
    {
      "cell_type": "markdown",
      "metadata": {
        "id": "WYXbrAbfdLzN"
      },
      "source": [
        "### ***`Esse é um editor de textos`***"
      ]
    },
    {
      "cell_type": "markdown",
      "metadata": {
        "id": "SyJDtR9DAI8V"
      },
      "source": [
        "# Python\n",
        "### Aplicações python\n",
        "### Ambientes de programação python\n",
        "\n",
        "\n",
        "\n"
      ]
    },
    {
      "cell_type": "markdown",
      "metadata": {
        "id": "_FM-xSH6tsNW"
      },
      "source": [
        "# Exibição de informação no console, print( )\n"
      ]
    },
    {
      "cell_type": "code",
      "metadata": {
        "colab": {
          "base_uri": "https://localhost:8080/"
        },
        "id": "ayJq-uVPfQ8Q",
        "outputId": "b50511c4-98cc-4538-9fe5-9a8921c389f7"
      },
      "source": [
        "print(\"Hello Word\")\n",
        "print(\"Este é o meu segundo print\")\n",
        "print(\"Oi, meu nome é Danilo\")"
      ],
      "execution_count": null,
      "outputs": [
        {
          "output_type": "stream",
          "name": "stdout",
          "text": [
            "Hello Word\n",
            "Este é o meu segundo print\n",
            "Oi, meu nome é Danilo\n"
          ]
        }
      ]
    },
    {
      "cell_type": "markdown",
      "metadata": {
        "id": "C_APoBVeunmP"
      },
      "source": [
        "# Tipos de dados em Python e a função type( )"
      ]
    },
    {
      "cell_type": "code",
      "metadata": {
        "colab": {
          "base_uri": "https://localhost:8080/"
        },
        "id": "SsGvi_VXpxNc",
        "outputId": "90e0f93e-d5cc-4198-935e-1cb0f874efc3"
      },
      "source": [
        "# print(type(27)) # O tipo de dados do número 27 é int(numero inteiro)\n",
        "# print(type(5.7)) # O tipo de dados do número 5.7 é float(numero decimal)\n",
        "# print(type(5.7 + 27j)) # O tipo de dados do número 5.7 é complex (numero coplex)\n",
        "# print(type(\"Danilo\")) # O tipo de dados do nome Danilo é str(´)\n",
        "# print(type(False)) # tipo booleano, valores lógico, para Verdadeiro (True) e para Falso (False)\n",
        "\n",
        "\n",
        "# Tipos de dados númericos em python\n",
        "print(type(7)) # Numero inteiro\n",
        "print(type(7.5)) # Numero Fracionado, numero decimal\n",
        "print(type(5 + 2j))  # Numero Complexo\n",
        "\n",
        "\n",
        "\n",
        "# Tipo de dados booleano\n",
        "print(type(False))\n",
        "\n",
        "# Tipo de dados textual \n",
        "print(type('\"Danilo\"'))\n",
        "\n",
        "nome = \" Danilo de Souza Miguel\"\n",
        "print(nome)\n"
      ],
      "execution_count": null,
      "outputs": [
        {
          "output_type": "stream",
          "name": "stdout",
          "text": [
            "<class 'int'>\n",
            "<class 'float'>\n",
            "<class 'complex'>\n",
            "<class 'bool'>\n",
            "<class 'str'>\n",
            " Danilo de Souza Miguel\n"
          ]
        }
      ]
    },
    {
      "cell_type": "markdown",
      "metadata": {
        "id": "1Aajf9fIK1qx"
      },
      "source": [
        "# Variáveis "
      ]
    },
    {
      "cell_type": "code",
      "metadata": {
        "colab": {
          "base_uri": "https://localhost:8080/"
        },
        "id": "tCWKfak6LZ4Y",
        "outputId": "999f0635-7728-4af2-b2ae-55c4e0d4c225"
      },
      "source": [
        "nome_usuario = \"Danilo de Souza Miguel \\n\" # Variável nome_usuario recebe o valor Danilo\n",
        "idade = 35 # Variável numero recebe o valor 20\n",
        "altura = 1.80  # Variável fracao recebe o valor 8.5\n",
        "professor = False # Variável aberto recebe o valor True\n",
        "print(nome_usuario, idade, altura, professor) # print das variáveis criadas\n"
      ],
      "execution_count": null,
      "outputs": [
        {
          "output_type": "stream",
          "name": "stdout",
          "text": [
            "Danilo de Souza Miguel \n",
            " 35 1.8 False\n"
          ]
        }
      ]
    },
    {
      "cell_type": "markdown",
      "metadata": {
        "id": "oVBDb1UTOrbg"
      },
      "source": [
        "#Concatenação e conversão de tipos de variáveis"
      ]
    },
    {
      "cell_type": "code",
      "metadata": {
        "colab": {
          "base_uri": "https://localhost:8080/"
        },
        "id": "zwmGdggKtE23",
        "outputId": "4e2dd051-4609-4eb2-c4bd-79d416a6eb22"
      },
      "source": [
        "primeiro_nome  = \"Danilo \"\n",
        "sobrenome = \"Miguel \"\n",
        "idade = 35\n",
        "teste_variavel = None \n",
        "\n",
        "print(teste_variavel)\n",
        "print(primeiro_nome, sobrenome, idade)# print normal\n",
        "print(primeiro_nome + sobrenome + str(idade)) # Conversão de tipo\n",
        "# print(primeiro_nome + sobrenome + idade)# Não podemos concatenar inteiros junto a Strings\n",
        "\n",
        "\n"
      ],
      "execution_count": null,
      "outputs": [
        {
          "output_type": "stream",
          "name": "stdout",
          "text": [
            "None\n",
            "Danilo  Miguel  35\n",
            "Danilo Miguel 35\n"
          ]
        }
      ]
    },
    {
      "cell_type": "markdown",
      "metadata": {
        "id": "SlEmA1uzyk_d"
      },
      "source": [
        "# Quem é voce?  Crie uma variável para cada dado e conte quem você, usando concatenação e conversão de dados.  Nome, Sobrenome, idade, altura"
      ]
    },
    {
      "cell_type": "code",
      "metadata": {
        "colab": {
          "base_uri": "https://localhost:8080/"
        },
        "id": "4Z0rE4_AO67a",
        "outputId": "df43d87f-ed20-4509-c9a9-2fd32aab5aac"
      },
      "source": [
        "primeiro_nome  = \"Danilo \"\n",
        "sobrenome = \"Miguel \"\n",
        "idade = 35\n",
        "altura = 1.80\n",
        "\n",
        "print(\"Meu nome é \" + Sandra + \"e meu sobrenome \" + Regina + \"tenho \" + str(50) + \"anos \" + \"e minha altura é \" + str(1.70)) \n",
        "\n",
        "print(\"Meu nome é \"primeiro_nome, \"e meu sobrenome\", sobrenome, \" e minha idade é \", idade)# print normal\n",
        "\n",
        "# primeiro_numero = \"20\"\n",
        "# segundo_numero = \"21\"\n",
        "# print(primeiro_numero + \" \" +segundo_numero)  # Concatenação das variáveis primeiro_nome e segundo_nome\n",
        "# print(primeiro_numero, segundo_numero)\n",
        "\n",
        "# nome  = input(\"Digite seu nome\")\n",
        "# sobrenome = \"Miguel\"\n",
        "# idade = 35\n",
        "\n",
        "# print(type(idade))\n",
        "\n",
        "print(nome, sobrenome, idade)\n",
        "print (\"Oi meu nome é: \" + nome + \" \" + sobrenome + \" minha idade é 35\")\n",
        "print (\"Oi meu nome é: \" + nome + \" e minha idade é \" + str(idade))  # Conversão da variável idade(int) para str\n",
        "print (\"Oi meu nome é: \",nome, \" e minha idade é\",idade, \"teste\" )\n",
        "\n",
        "print(type(idade))       \n",
        "print(type(str(idade)))   # resulta STR\n",
        "\n",
        "\n",
        "print(type(idade))\n",
        "\n",
        "str()\n",
        "\n",
        "numero_inteiro = 100\n",
        "numero  = float(numero_inteiro) # Conversão da variável numero_inteiro(int) para float\n",
        "\n",
        "print(numero_inteiro, numero)\n",
        "\n",
        "teste_conversao = \"45.\"\n",
        "teste_conversao_string = float(teste_conversao)\n",
        "print(teste_conversao)\n",
        "print(teste_conversao_string)\n",
        "\n",
        "numero_complexo_string =\"1+5j\"\n",
        "string_teste = \"j\"\n",
        "convert_complex = complex(string_teste)\n",
        "numero_complexo = complex(numero_complexo_string)\n"
      ],
      "execution_count": null,
      "outputs": [
        {
          "output_type": "stream",
          "name": "stdout",
          "text": [
            "Meu nome é Danilo e meu sobrenome Miguel tenho 35anos e minha altura é 1.8\n",
            "Danilo Miguel  35\n",
            "Oi meu nome é: Danilo Miguel  minha idade é 35\n",
            "Oi meu nome é: Danilo e minha idade é 35\n",
            "Oi meu nome é:  Danilo  e minha idade é 35 teste\n",
            "<class 'int'>\n",
            "<class 'str'>\n",
            "<class 'int'>\n",
            "100 100.0\n",
            "45.\n",
            "45.0\n"
          ]
        }
      ]
    },
    {
      "cell_type": "markdown",
      "metadata": {
        "id": "Gg9kziH_WlKz"
      },
      "source": [
        "# Desafio: \n",
        "##Quem é você? Imprima seu nome, sua idade e qual será sua idade no próximo ano."
      ]
    },
    {
      "cell_type": "code",
      "metadata": {
        "colab": {
          "base_uri": "https://localhost:8080/"
        },
        "id": "TV63TwLHXhZR",
        "outputId": "1bdde6e5-072f-4d90-93aa-bfd03a4588b6"
      },
      "source": [
        "idade = 35\n",
        "nome = \"Danilo\"\n",
        "print(\"Meu nome é\" + \" \" + nome + \" minha idade é \" + str(idade) + \" e ano q vem minha idade sera \" + str(idade + 1))\n"
      ],
      "execution_count": null,
      "outputs": [
        {
          "output_type": "stream",
          "name": "stdout",
          "text": [
            "Meu nome é Danilo minha idade é 35 e ano q vem minha idade sera 36\n"
          ]
        }
      ]
    },
    {
      "cell_type": "markdown",
      "metadata": {
        "id": "giDs_SUAaDu4"
      },
      "source": [
        "# Operação com boleanos"
      ]
    },
    {
      "cell_type": "code",
      "metadata": {
        "colab": {
          "base_uri": "https://localhost:8080/"
        },
        "id": "MeqQ59EAbMM0",
        "outputId": "a9c6dc0d-f231-47b8-98ef-9e7ab2aa16cd"
      },
      "source": [
        "\n",
        "True + 4 * True"
      ],
      "execution_count": null,
      "outputs": [
        {
          "output_type": "execute_result",
          "data": {
            "text/plain": [
              "5"
            ]
          },
          "metadata": {
            "tags": []
          },
          "execution_count": 72
        }
      ]
    },
    {
      "cell_type": "markdown",
      "metadata": {
        "id": "HfXSrDGbfjMR"
      },
      "source": [
        "#Desafio: \n",
        "## Entre com o valor da conta de um restaurante e calcule a gorjeta do garçom, nesse restaurante a gorjeta do garçom é de 10 por cento.\n"
      ]
    },
    {
      "cell_type": "code",
      "metadata": {
        "colab": {
          "base_uri": "https://localhost:8080/"
        },
        "id": "pPcDhQQpfmtb",
        "outputId": "8baa5b49-9c9f-47b7-d82e-bc792ed95081"
      },
      "source": [
        "valor_da_conta = float(input(\"Insira o valor da conta \"))\n",
        "gorjeta = valor_da_conta * 0.10\n",
        "print(gorjeta) "
      ],
      "execution_count": null,
      "outputs": [
        {
          "output_type": "stream",
          "text": [
            "Insira o valor da conta 500\n",
            "500.0\n",
            "50.0\n"
          ],
          "name": "stdout"
        }
      ]
    },
    {
      "cell_type": "markdown",
      "metadata": {
        "id": "LEXVGMignMEI"
      },
      "source": [
        "# Manipulação de Strings"
      ]
    },
    {
      "cell_type": "code",
      "metadata": {
        "colab": {
          "base_uri": "https://localhost:8080/"
        },
        "id": "Pry0iCT6nS9k",
        "outputId": "b28e34ed-bc21-4ab3-f277-8e7dd7f9e574"
      },
      "source": [
        "teste =  \"Primeiro Teste\"\n",
        "segundo_teste = \"Este é outro teste\"\n",
        "numero = \"54.5\"\n",
        "\n",
        "\n",
        "\n",
        "\n",
        "\n",
        "\n",
        "\n",
        "\n",
        "type(teste) # Tipo de dados da variável\n",
        "len(teste) # Tamanho da variável\n",
        "sub = teste.replace(teste, \"Miguel\") # Substituição do valor da variável\n",
        "\n",
        "print(teste.replace(teste, \"Miguel\"))\n",
        "print(teste.replace(teste, \"52\"))\n",
        "print(teste.replace(teste, str(52)))\n",
        "print(numero.replace(numero, str(54.5)))\n",
        "\n",
        "\n",
        "print(sub) # Concatenação\n",
        "\n",
        "\n",
        "numero = 54.5\n",
        "conv = str(numero)\n",
        "\n",
        "print(conv.replace(\".\", \",\"))\n",
        "\n"
      ],
      "execution_count": null,
      "outputs": [
        {
          "output_type": "stream",
          "text": [
            "Miguel\n",
            "52\n",
            "52\n",
            "54.5\n",
            "Miguel\n",
            "54,5\n"
          ],
          "name": "stdout"
        }
      ]
    },
    {
      "cell_type": "markdown",
      "metadata": {
        "id": "u04G_aKNuGoz"
      },
      "source": [
        "# Operadores"
      ]
    },
    {
      "cell_type": "markdown",
      "metadata": {
        "id": "14kBfXHQubOC"
      },
      "source": [
        "### Operadores aritméticos"
      ]
    },
    {
      "cell_type": "code",
      "metadata": {
        "colab": {
          "base_uri": "https://localhost:8080/"
        },
        "id": "gx8L15w7uKMF",
        "outputId": "e4df31ca-cb6d-47e7-fdda-aecf570b4d16"
      },
      "source": [
        "print (5 + 5) # soma\n",
        "print (85 - 72) # subtração\n",
        "print (8 * 7) # multiplicação\n",
        "print (56 / 12) # divisão\n",
        "\n",
        "print(4 ** 4) # Potenciação\n",
        "print(5 // 2) # Retorna sempre um numero inteiro\n",
        "print(6 % 2 ) # Retorna o resto da divisão\n",
        "\n",
        "import math\n",
        "numero = 9\n",
        "print(math.sqrt(numero))\n",
        "\n",
        "help(input)\n"
      ],
      "execution_count": null,
      "outputs": [
        {
          "output_type": "stream",
          "text": [
            "10\n",
            "13\n",
            "56\n",
            "4.666666666666667\n",
            "256\n",
            "2\n",
            "0\n",
            "3.0\n",
            "Help on method raw_input in module ipykernel.kernelbase:\n",
            "\n",
            "raw_input(prompt='') method of google.colab._kernel.Kernel instance\n",
            "    Forward raw_input to frontends\n",
            "    \n",
            "    Raises\n",
            "    ------\n",
            "    StdinNotImplentedError if active frontend doesn't support stdin.\n",
            "\n"
          ],
          "name": "stdout"
        }
      ]
    },
    {
      "cell_type": "markdown",
      "metadata": {
        "id": "tbNO6KSdxhsf"
      },
      "source": [
        "### Operadores de atribuição"
      ]
    },
    {
      "cell_type": "code",
      "metadata": {
        "colab": {
          "base_uri": "https://localhost:8080/"
        },
        "id": "7p-zs8jCxohp",
        "outputId": "bbb193f6-1ab2-47ff-d606-49469aeec6d8"
      },
      "source": [
        " a = 1\n",
        " b  = 10\n",
        " c = 15\n",
        " d = 20\n",
        " e = 50\n",
        " a += 5  # a = a + 1\n",
        " b -= 1  # b = b - 1\n",
        " c *= 1  # x = c * 1\n",
        " d /= 1  # x = d / 1\n",
        " e %= 1  # x = e % 1\n",
        "\n",
        " print(a)\n",
        " print(b)\n",
        " print(c)\n",
        " print(d)\n",
        " print(e)"
      ],
      "execution_count": null,
      "outputs": [
        {
          "output_type": "stream",
          "text": [
            "6\n",
            "9\n",
            "15\n",
            "20.0\n",
            "0\n"
          ],
          "name": "stdout"
        }
      ]
    },
    {
      "cell_type": "markdown",
      "metadata": {
        "id": "5ERdtr4_FVZU"
      },
      "source": [
        "#  Operadores de comparação"
      ]
    },
    {
      "cell_type": "code",
      "metadata": {
        "colab": {
          "base_uri": "https://localhost:8080/"
        },
        "id": "-Ll280geOc73",
        "outputId": "de1d417a-3fa9-46e9-f383-605ed5fb27cc"
      },
      "source": [
        "print(7 == 7) # (==) Representa igualdade\n",
        "print(2.5 == 2.5)\n",
        "print(\"texto\" == \"texto\")\n",
        "\n",
        "A = \"(1 > 2)\"\n",
        "print(\"Valore de A:\", A) \n",
        "\n",
        "print( 10 > 9) # Verifica se numero da esquerda é maior ao número da direita\n",
        "print( 8 < 9) # Verifica se numero da esquerda é menor ao número da direita\n",
        "\n",
        "print( 10 >= 9) # Verifica se numero da esquerda é maior ou igual ao número da direita\n",
        "print( 7 <= 9) # Verifica se numero da esquerda é menor ou igual  ao número da direita\n",
        "\n",
        "print( 7 != 9) # Verifica se numero da esquerda é menor ou igual  ao número da direita\n",
        "\n",
        "\n"
      ],
      "execution_count": null,
      "outputs": [
        {
          "output_type": "stream",
          "text": [
            "True\n",
            "True\n",
            "True\n",
            "Valore de A: (1 > 2)\n",
            "True\n",
            "True\n",
            "True\n",
            "True\n",
            "True\n"
          ],
          "name": "stdout"
        }
      ]
    },
    {
      "cell_type": "markdown",
      "metadata": {
        "id": "TIlFWIjlx_LV"
      },
      "source": [
        "# Entendendo o que são os comentários de última/várias linhas"
      ]
    },
    {
      "cell_type": "code",
      "metadata": {
        "id": "Kn5cbXfDyF_8",
        "colab": {
          "base_uri": "https://localhost:8080/",
          "height": 35
        },
        "outputId": "364ce215-da9d-4fe5-c850-f4fadd5f0006"
      },
      "source": [
        "# Esse é um comentario de uma linha\n",
        "# Outro comentário\n",
        "''' Esse é um comentario de uma linha '''\n"
      ],
      "execution_count": null,
      "outputs": [
        {
          "output_type": "execute_result",
          "data": {
            "application/vnd.google.colaboratory.intrinsic+json": {
              "type": "string"
            },
            "text/plain": [
              "' Esse é um comentario de uma linha '"
            ]
          },
          "metadata": {},
          "execution_count": 19
        }
      ]
    },
    {
      "cell_type": "markdown",
      "metadata": {
        "id": "zjRa_ldPzhbr"
      },
      "source": [
        "# Exibindo valores númericos formatados "
      ]
    },
    {
      "cell_type": "code",
      "metadata": {
        "colab": {
          "base_uri": "https://localhost:8080/"
        },
        "id": "tQpnEt7qzlAq",
        "outputId": "31086cdf-0888-4dfe-efb0-ee65af0d07b4"
      },
      "source": [
        "medida_polegada = float(input(\"Informe a medida em polegada: \"))\n",
        "medida_centimetro = medida_polegada * 2.54\n",
        "saida = \"A saida \" + str(medida_polegada) + \"polegadas em centimetros é: \" + str(medida_centimetro) # Não é possivel concatener valores númericos\n",
        "print(f\" A medida de {medida_polegada} polegadas em centimetro e:{medida_centimetro:.2f} \")\n",
        "print(saida)\n"
      ],
      "execution_count": null,
      "outputs": [
        {
          "output_type": "stream",
          "text": [
            "Informe a medida em polegada: 50\n",
            " A medida de 50.0 polegadas em centimetro e:127.00 \n",
            "A saida 50.0polegadas em centimetros é: 127.0\n"
          ],
          "name": "stdout"
        }
      ]
    },
    {
      "cell_type": "markdown",
      "metadata": {
        "id": "zGFr4SD8z8Ru"
      },
      "source": [
        "# Formatação de blocos e indentação "
      ]
    },
    {
      "cell_type": "code",
      "metadata": {
        "colab": {
          "base_uri": "https://localhost:8080/"
        },
        "id": "5mBRkL4rz_Ov",
        "outputId": "1f513adc-2dff-43aa-fe0b-0ec3519ef0ac"
      },
      "source": [
        "print(\"Primeiro nível de indentação\")#primeiro nível \n",
        "\n",
        "if(True):\n",
        "  print(\"Segundo nível de indentação\")#segundo nível\n",
        "\n",
        "# A identação se aplica com 2 espaços ou um tab\n"
      ],
      "execution_count": null,
      "outputs": [
        {
          "output_type": "stream",
          "text": [
            "Primeiro nível de indentação\n",
            "Segundo nível de indentação\n"
          ],
          "name": "stdout"
        }
      ]
    },
    {
      "cell_type": "markdown",
      "metadata": {
        "id": "hPvtoW2A1DDW"
      },
      "source": [
        "# Importando bibliotecas - Trabalhando com data e hora "
      ]
    },
    {
      "cell_type": "code",
      "metadata": {
        "colab": {
          "base_uri": "https://localhost:8080/"
        },
        "id": "MwOh_5zM1CqS",
        "outputId": "71180e54-0d7e-4a6a-9e6f-0dfb74b23043"
      },
      "source": [
        "from math import sqrt\n",
        "print(sqrt(25))\n",
        "\n",
        "from datetime import datetime\n",
        "from datetime import date\n",
        "from dateutil import tz\n",
        "\n",
        "\n",
        "data_hj = date(year=2021, month=8, day=25)\n",
        "print(data_hj)\n",
        " \n",
        "\n",
        "print(datetime.today()) # Data atual\n",
        "print(datetime.now().isoformat()) # Data atual\n",
        "\n",
        "print(datetime.today().strftime('%Y-%d-%m'))# Alterando o formato da data\n",
        "print(datetime.today().strftime('%Y-%m-%d %H:%M')) # Tirando os milesegundos\n",
        "print(datetime.today().strftime('%A, %B %d, %Y %H:%M:%S'))# Incluindo os dias da semana \n",
        "print(datetime.today(), tz.tzlocal()) # Data atual\n",
        "\n"
      ],
      "execution_count": null,
      "outputs": [
        {
          "output_type": "stream",
          "text": [
            "5.0\n",
            "2021-08-25\n",
            "2021-08-25 01:47:46.469136\n",
            "2021-08-25T01:47:46.469217\n",
            "2021-25-08\n",
            "2021-08-25 01:47\n",
            "Wednesday, August 25, 2021 01:47:46\n",
            "2021-08-25 01:47:46.469639 tzlocal()\n"
          ],
          "name": "stdout"
        }
      ]
    },
    {
      "cell_type": "markdown",
      "metadata": {
        "id": "jgd92dd4APXQ"
      },
      "source": [
        "# Números formatados\n",
        "\n",
        "\n"
      ]
    },
    {
      "cell_type": "code",
      "metadata": {
        "colab": {
          "base_uri": "https://localhost:8080/"
        },
        "id": "Yn2VXeFSBhmo",
        "outputId": "9c8fc09b-1be5-4a44-a2fa-f76f2a0694c5"
      },
      "source": [
        "porcentagem = 0.10\n",
        "valor_conta = 500\n",
        "Gorjeta = \"A gorjeta do garçom\"\n",
        "\n",
        "# Gorjeta =\"A gorjeta do garçom é \" +  (porcentagem) * (valor_conta) # Errado\n",
        "print(Gorjeta)\n",
        "\n",
        "# Primeira solução\n",
        "Gorjeta =\"A gorjeta do garçom é \" +  str((porcentagem) * (valor_conta))\n",
        "print(Gorjeta, \"Conversão de tipos\")\n",
        "\n",
        "\n",
        "# print(\"A gorjeta do garçom é\" (porcetagem) * (valor_conta))\n",
        "\n",
        "porcentagem = 0.10\n",
        "valor_conta = 500\n",
        "Gorjeta1 = \"A gorjeta do garçom\"\n",
        "\n",
        "Gorjeta1 = porcentagem + valor_conta\n",
        "print (Gorjeta1)\n",
        "\n",
        "# print (f\"{Gorjeta}\")\n",
        "\n",
        "# print(type(Gorjeta))"
      ],
      "execution_count": null,
      "outputs": [
        {
          "output_type": "stream",
          "text": [
            "A gorjeta do garçom\n",
            "A gorjeta do garçom é 50.0 Conversão de tipos\n",
            "500.1\n"
          ],
          "name": "stdout"
        }
      ]
    },
    {
      "cell_type": "code",
      "metadata": {
        "colab": {
          "base_uri": "https://localhost:8080/"
        },
        "id": "6ws3vmkiYrAK",
        "outputId": "437cb83f-c961-4dcc-9ca7-69ca7bb28dab"
      },
      "source": [
        "porcentagem = 0.10\n",
        "valor_conta = 500\n",
        "Gorjeta1 = \"A gorjeta do garçom\"\n",
        "\n",
        "Gorjeta1 = porcentagem * valor_conta\n",
        "print (Gorjeta1)\n"
      ],
      "execution_count": null,
      "outputs": [
        {
          "output_type": "stream",
          "text": [
            "50.0\n"
          ],
          "name": "stdout"
        }
      ]
    },
    {
      "cell_type": "markdown",
      "metadata": {
        "id": "89spHmX9E88w"
      },
      "source": [
        "# Lista"
      ]
    },
    {
      "cell_type": "code",
      "metadata": {
        "colab": {
          "base_uri": "https://localhost:8080/"
        },
        "id": "OcfNdZredXMp",
        "outputId": "5d72d239-9c09-4068-a2d9-6ca744065401"
      },
      "source": [
        "frutas = [\"maça\", \"Banana\", \"Abacate\", \"Uva\"]\n",
        "print(frutas)\n",
        "print(type(frutas))\n",
        "print(len(frutas))\n",
        "\n",
        "frutas[3] = \"Manga\" # Alterando valor do elemento na lista\n",
        "print(frutas)\n",
        "\n",
        "frutas.append(\"Laranja\") # Inserindo novo elemento na lista\n",
        "frutas.append(\" \") # Inserindo novo elemento na lista\n",
        "\n",
        "print(frutas)\n",
        "\n",
        "frutas.insert(0, \"Morango\")#Inserindo novo elemento na lista utlizando insert()\n",
        "print(frutas)\n",
        "\n",
        "frutas.remove(\"Morango\") # Remove informando o parametro\n",
        "print(frutas)\n",
        "\n",
        "frutas.pop(1)\n",
        "print(frutas)\n",
        "\n",
        "numeros = [7,1,5,3,4, True, \"Texto\", [\"elemento1\", \"elemento2\"]]\n",
        "frutas.sort()\n",
        "print(frutas)\n",
        "\n",
        "numeros[7].insert(2,\"elemento3\")\n",
        "\n",
        "print(numeros)\n",
        "\n",
        "print(len(frutas))\n",
        "\n"
      ],
      "execution_count": null,
      "outputs": [
        {
          "output_type": "stream",
          "text": [
            "['maça', 'Banana', 'Abacate', 'Uva']\n",
            "<class 'list'>\n",
            "4\n",
            "['maça', 'Banana', 'Abacate', 'Manga']\n",
            "['maça', 'Banana', 'Abacate', 'Manga', 'Laranja', ' ']\n",
            "['Morango', 'maça', 'Banana', 'Abacate', 'Manga', 'Laranja', ' ']\n",
            "['maça', 'Banana', 'Abacate', 'Manga', 'Laranja', ' ']\n",
            "['maça', 'Abacate', 'Manga', 'Laranja', ' ']\n",
            "[' ', 'Abacate', 'Laranja', 'Manga', 'maça']\n",
            "[7, 1, 5, 3, 4, True, 'Texto', ['elemento1', 'elemento2', 'elemento3']]\n",
            "5\n"
          ],
          "name": "stdout"
        }
      ]
    },
    {
      "cell_type": "markdown",
      "metadata": {
        "id": "CDNsNVLiFAOJ"
      },
      "source": [
        "# Dicionário"
      ]
    },
    {
      "cell_type": "code",
      "metadata": {
        "colab": {
          "base_uri": "https://localhost:8080/"
        },
        "id": "QLArTw0cnO_B",
        "outputId": "497dcfa0-d700-4e8f-93a0-dd2f49982c39"
      },
      "source": [
        "dicionario = {'nome':'Danilo', 'idade': 35, 'altura': 1.80} # Criação do dicionário\n",
        "dicionario1 = {'feira':['banana', 'maça', 'uva'], 'nome': 'Danilo'}\n",
        "lista = [\"Danilo\", 35, 1,80] \n",
        "dicionario['cpf'] = 40454545 # Adicionando um novo item\n",
        "dicionario.pop('altura', None) # Remoção\n",
        "print(dicionario)\n",
        "print(dicionario1)\n",
        "print(dicionario['nome'], dicionario['cpf'] )"
      ],
      "execution_count": null,
      "outputs": [
        {
          "output_type": "stream",
          "text": [
            "{'nome': 'Danilo', 'idade': 35, 'cpf': 40454545}\n",
            "{'feira': ['banana', 'maça', 'uva'], 'nome': 'Danilo'}\n",
            "Danilo 40454545\n"
          ],
          "name": "stdout"
        }
      ]
    },
    {
      "cell_type": "markdown",
      "metadata": {
        "id": "Pd2Mt8IXEJ7V"
      },
      "source": [
        "# Laços, repetição e operadores condicionais"
      ]
    },
    {
      "cell_type": "code",
      "metadata": {
        "colab": {
          "base_uri": "https://localhost:8080/"
        },
        "id": "WNkIEut7q3lj",
        "outputId": "8b76f494-2893-41ab-a024-badc50788e0c"
      },
      "source": [
        "idade = int(input(\"Digitea sua idade: \\n\"))\n",
        "amigo = str(input(\"Voce amigo do dono: \\n\"))\n",
        "if idade > 18 or amigo == \"Sim\":\n",
        "  print(\"Pode entrar\")\n",
        "# elif amigo == \"Sim\":\n",
        "#   print(\"Pode entrar\")\n",
        "else:\n",
        "  print(\"Va para casa\")  "
      ],
      "execution_count": null,
      "outputs": [
        {
          "output_type": "stream",
          "text": [
            "Digitea sua idade: \n",
            "15\n",
            "Voce amigo do dono: \n",
            "Sim\n",
            "Pode entrar\n"
          ],
          "name": "stdout"
        }
      ]
    },
    {
      "cell_type": "markdown",
      "metadata": {
        "id": "X4ItkKKhvRKZ"
      },
      "source": [
        "## Enquanto"
      ]
    },
    {
      "cell_type": "code",
      "metadata": {
        "colab": {
          "base_uri": "https://localhost:8080/"
        },
        "id": "t-E0iY27vUZm",
        "outputId": "f0865b89-1ce2-4b32-89ce-28db311e16e6"
      },
      "source": [
        "numero = 50\n",
        "while numero > 10:\n",
        "  print(numero)\n",
        "  numero =  numero - 10\n",
        "print(\"Pode parar\")"
      ],
      "execution_count": null,
      "outputs": [
        {
          "output_type": "stream",
          "text": [
            "50\n",
            "40\n",
            "30\n",
            "20\n",
            "Pode parar\n"
          ],
          "name": "stdout"
        }
      ]
    },
    {
      "cell_type": "markdown",
      "metadata": {
        "id": "NarWAs7Iwidi"
      },
      "source": [
        "# Para cada"
      ]
    },
    {
      "cell_type": "code",
      "metadata": {
        "colab": {
          "base_uri": "https://localhost:8080/"
        },
        "id": "MAejx5DNwm2b",
        "outputId": "fa79d78e-6b05-44c1-e210-3ea4009076d8"
      },
      "source": [
        "lista = [1,2,3,4]\n",
        "i = 1\n",
        "while i < len(lista):\n",
        "  lista[i] = lista[i] + 2\n",
        "  i = i + 1\n",
        "print(lista)\n",
        "\n",
        "lista2 = []\n",
        "for item in lista:\n",
        "  lista2.append(item + 1)\n",
        "print(lista2)\n"
      ],
      "execution_count": null,
      "outputs": [
        {
          "output_type": "stream",
          "text": [
            "[1, 4, 5, 6]\n",
            "[2, 5, 6, 7]\n"
          ],
          "name": "stdout"
        }
      ]
    },
    {
      "cell_type": "markdown",
      "metadata": {
        "id": "zGNPUq9q3AYn"
      },
      "source": [
        "### Exercicio\n",
        "Dada a tabela o IR, faça um programa que recebe o salário de um trabalhador e devolve o valor do imposto.\n",
        "\n",
        "|Base de cálculo (R$)\t|Alíquota (%)|\n",
        "--------------------- |-------------|\n",
        "|Abaixo de 1.903,99    | 0%  |\n",
        "|De 1.903,99 até 2.826,65|\t7,5%\t|\n",
        "|De 2.826,66 até 3.751,05|\t15%\t|\n",
        "|De 3.751,06 até 4.664,68|\t22,5%\t|\n",
        "|Acima de 4.664,68|\t27,5%|"
      ]
    },
    {
      "cell_type": "markdown",
      "metadata": {
        "id": "MpZt6MJOzfe3"
      },
      "source": [
        "# Funções"
      ]
    },
    {
      "cell_type": "code",
      "metadata": {
        "colab": {
          "base_uri": "https://localhost:8080/"
        },
        "id": "oLL3UtRIzkG9",
        "outputId": "6bf978e9-362d-4219-c447-f41511fd1580"
      },
      "source": [
        "def hello(meu_nome):\n",
        "  print(\"Ola meu nome é:\", meu_nome)\n",
        "\n",
        "hello(\"Fabio\")  \n",
        "\n",
        "def calcular_gorjeta(valor_conta, porcentagem):\n",
        "  gorjeta = valor_conta * porcentagem\n",
        "  return gorjeta\n",
        "\n",
        "calcular_gorjeta(590, 0.1)  \n"
      ],
      "execution_count": null,
      "outputs": [
        {
          "output_type": "stream",
          "text": [
            "Ola meu nome é: Fabio\n"
          ],
          "name": "stdout"
        },
        {
          "output_type": "execute_result",
          "data": {
            "text/plain": [
              "59.0"
            ]
          },
          "metadata": {},
          "execution_count": 8
        }
      ]
    }
  ]
}